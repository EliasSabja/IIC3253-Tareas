{
  "nbformat": 4,
  "nbformat_minor": 0,
  "metadata": {
    "colab": {
      "name": "pregunta1.ipynb",
      "provenance": [],
      "collapsed_sections": []
    },
    "kernelspec": {
      "name": "python3",
      "display_name": "Python 3"
    },
    "language_info": {
      "name": "python"
    }
  },
  "cells": [
    {
      "cell_type": "markdown",
      "source": [
        "# Tarea 2 - Pregunta 1\n",
        "\n",
        "## Implementación Merkle-Damgard con Davies-Meyer y padding\n",
        "\n",
        "*Nota*: Este archivo fue probado utilizando Google Colab."
      ],
      "metadata": {
        "id": "47vsc8exH1U6"
      }
    },
    {
      "cell_type": "code",
      "execution_count": 3,
      "metadata": {
        "id": "NggqkXaWHogs"
      },
      "outputs": [],
      "source": [
        "from typing import Callable\n",
        "from sys import byteorder\n",
        "\n",
        "# Obtenido de https://nitratine.net/blog/post/xor-python-byte-strings/\n",
        "def byte_xor(ba1: bytearray, ba2: bytearray) -> bytearray:\n",
        "    return bytearray([a ^ b for a, b in zip(ba1, ba2)])\n",
        "\n",
        "def davies_meyer(encrypt: Callable[[bytearray, bytearray],bytearray], l_key: int, l_message: int) -> Callable[[bytearray], bytearray]:\n",
        "    \"\"\"\n",
        "    Arguments :\n",
        "    encrypt : an encryption function\n",
        "    l_key : length in bytes of the keys for encrypt\n",
        "    l_message : length in bytes of the messages for encrypt\n",
        "    Returns :\n",
        "    A compression function from messages of length l_key + l_message to\n",
        "    messages of length l_message , defined by using the Davies - Meyer\n",
        "    construction\n",
        "    \"\"\"\n",
        "    def compression(message: bytearray) -> bytearray:\n",
        "        u = message[:l_key]\n",
        "        v = message[l_key: l_message + l_key]\n",
        "        return byte_xor(encrypt(u, v), v)\n",
        "\n",
        "    return compression\n",
        "\n",
        "def pad(message: bytearray, l_block: int) -> bytearray:\n",
        "    \"\"\"\n",
        "    Arguments :\n",
        "    message : message to be padded\n",
        "    l_block : length in bytes of the block\n",
        "    Returns :\n",
        "    extension of message that includes the length of message\n",
        "    ( in bytes ) in its last block\n",
        "    \"\"\"\n",
        "    padded = bytearray(message[:])\n",
        "    l_m = len(padded)\n",
        "    # Bloque final con el largo del mensaje\n",
        "    last_block = l_m.to_bytes(l_block, byteorder='big')\n",
        "    if (len(message) % l_block == 0):\n",
        "        padded.extend(last_block)\n",
        "        return padded\n",
        "    # Se obtiene el bloque incompleto a rellenar y se rellena con 100000...\n",
        "    l_block_to_fill = l_m % l_block\n",
        "    block_to_fill = padded[-l_block_to_fill:]\n",
        "    l_to_fill = l_block - l_block_to_fill\n",
        "    padded.extend(bytearray(b'\\x01') + bytearray(l_to_fill - 1))\n",
        "    # Se anade el ultimo bloque\n",
        "    padded.extend(last_block)\n",
        "    return padded\n",
        "\n",
        "def merkle_damgard ( IV : bytearray , comp : Callable[[bytearray], bytearray] ,l_block : int ) -> Callable[[bytearray], bytearray]:\n",
        "    \"\"\"\n",
        "    Arguments :\n",
        "    IV : initialization vector for a hash function\n",
        "    comp : compression function to be used in the Merkle - Damgard construction\n",
        "    l_block : length in bytes of the blocks to be used in the Merkle - Damgard construction\n",
        "    Returns :\n",
        "    A hash function for messages of arbitrary length , defined by using the Merkle - Damgard construction\n",
        "    \"\"\"\n",
        "    def hash(message: bytearray):\n",
        "        msg = pad(message, l_block)\n",
        "        h_i = IV\n",
        "        for i in range(len(msg)//l_block):\n",
        "            block = msg[l_block * i: l_block * i + l_block]\n",
        "            h_i = comp(block + h_i)\n",
        "        return h_i\n",
        "\n",
        "    return hash"
      ]
    },
    {
      "cell_type": "markdown",
      "source": [
        "## Test de la solución\n",
        "En las siguientes celdas se realiza el test de prueba entregado en la issues del repositorio del curso.\n",
        "\n",
        "Primero, se deben instalar las dependencias."
      ],
      "metadata": {
        "id": "VrYslPFbIXc4"
      }
    },
    {
      "cell_type": "code",
      "source": [
        "!pip install pycryptodome"
      ],
      "metadata": {
        "colab": {
          "base_uri": "https://localhost:8080/"
        },
        "id": "-G3Ltp06Ilvf",
        "outputId": "b384b091-9c56-45c7-d964-b9f751863cf0"
      },
      "execution_count": 4,
      "outputs": [
        {
          "output_type": "stream",
          "name": "stdout",
          "text": [
            "Looking in indexes: https://pypi.org/simple, https://us-python.pkg.dev/colab-wheels/public/simple/\n",
            "Collecting pycryptodome\n",
            "  Downloading pycryptodome-3.14.1-cp35-abi3-manylinux2010_x86_64.whl (2.0 MB)\n",
            "\u001b[K     |████████████████████████████████| 2.0 MB 13.8 MB/s \n",
            "\u001b[?25hInstalling collected packages: pycryptodome\n",
            "Successfully installed pycryptodome-3.14.1\n"
          ]
        }
      ]
    },
    {
      "cell_type": "code",
      "source": [
        "from Crypto.Cipher import AES\n",
        "\n",
        "def encrypt(key: bytearray, msg: bytearray) -> bytearray:\n",
        "    alg = AES.new(key, AES.MODE_ECB)\n",
        "    return alg.encrypt(msg)\n",
        "\n",
        "def AES_128(key: bytearray, message: bytearray) -> bytearray:\n",
        "    a = AES.new(key, AES.MODE_ECB)\n",
        "    return bytearray(a.encrypt(message))\n",
        "\n",
        "if __name__ == \"__main__\":\n",
        "    compresion = davies_meyer(AES_128, 16, 16)\n",
        "    hash = merkle_damgard(bytearray(b'1234567890123456'), compresion, 16)\n",
        "\n",
        "    s1 = bytearray(b'Este es un mensaje de prueba para la tarea 2')\n",
        "    s2 = bytearray(b'Este es un mensaje de Prueba para la tarea 2')\n",
        "    s3 = bytearray(b'Un mensaje corto')\n",
        "    s4 = bytearray(b'')\n",
        "\n",
        "    h1 = hash(s1)\n",
        "    h2 = hash(s2)\n",
        "    h3 = hash(s3)\n",
        "    h4 = hash(s4)\n",
        "    \n",
        "    print(\"[-------------------------------- Outputs obtenidos -----------------------------------]\")\n",
        "    print(h1)\n",
        "    print(h2)\n",
        "    print(h3)\n",
        "    print(h4)\n",
        "    print()\n",
        "    print(\"[-------------------------------- Verificación del output -----------------------------------]\")\n",
        "    print(h1 == bytearray(b'\\xe9\\xe8\\xac\\x12\\\\\\xf2\\xc8\\x16\\xceOV\\xc5Y.T\\xea'))\n",
        "    print(h2 == bytearray(b'\\xb6\\xfb\\xc6a\\x12\\xae\\x95\\x1f\\xda\\xc5\\x13\\xde\\x06|Q\\x96'))\n",
        "    print(h3 == bytearray(b'\\xc5\\xec\\xcdd\\xa4(R*\\xf0L*QtL\\xda\\x81'))\n",
        "    print(h4 == bytearray(b'p\\xca \\xd8\\x9c\\xeb\\xe6\\xb1\\xce\\xcf\\x03\\xb2\\x9e\\x93\\x19\\xbc'))"
      ],
      "metadata": {
        "colab": {
          "base_uri": "https://localhost:8080/"
        },
        "id": "3znSHrv8IIGc",
        "outputId": "dbcfceaf-b9bd-4c3e-cd08-8ef6775397c3"
      },
      "execution_count": 14,
      "outputs": [
        {
          "output_type": "stream",
          "name": "stdout",
          "text": [
            "[-------------------------------- Outputs obtenidos -----------------------------------]\n",
            "bytearray(b'\\xe9\\xe8\\xac\\x12\\\\\\xf2\\xc8\\x16\\xceOV\\xc5Y.T\\xea')\n",
            "bytearray(b'\\xb6\\xfb\\xc6a\\x12\\xae\\x95\\x1f\\xda\\xc5\\x13\\xde\\x06|Q\\x96')\n",
            "bytearray(b'\\xc5\\xec\\xcdd\\xa4(R*\\xf0L*QtL\\xda\\x81')\n",
            "bytearray(b'p\\xca \\xd8\\x9c\\xeb\\xe6\\xb1\\xce\\xcf\\x03\\xb2\\x9e\\x93\\x19\\xbc')\n",
            "\n",
            "[-------------------------------- Verificación del output -----------------------------------]\n",
            "True\n",
            "True\n",
            "True\n",
            "True\n"
          ]
        }
      ]
    }
  ]
}